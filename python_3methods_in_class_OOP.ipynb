{
 "cells": [
  {
   "cell_type": "markdown",
   "metadata": {},
   "source": [
    "# 類別(Class)中的三種方法(Method)\n",
    "[source](https://learncodewithmike.blogspot.com/2020/01/python-method.html)\n",
    "* 類別(Class)中的三種方法(Method)在物件導向設計(Object-oriented programming)中非常的重要，瞭解其觀念及應用有助於類別(Class)的設計更有彈性且易於維護。\n",
    "    * 實體方法(Instance Method)\n",
    "    * 類別方法(Class Method)\n",
    "    * 靜態方法(Static Method)"
   ]
  },
  {
   "cell_type": "markdown",
   "metadata": {},
   "source": [
    "## 1. 實體方法(Instance Method)\n",
    "* Python類別(Class)中沒有加任何裝飾詞(Decorator)的方法(Method)，至少要有一個self參數，於方法(Method)被呼叫時指向物件(Object)，其後可以依需求增加額外參數\n",
    "* 實體方法(Instance Method)透過 `self` 參數可以自由的存取`物件(Object)`的屬性(**Attribute**)及其他方法(**Method**)，藉此來改變物件(**Object**)的狀態\n",
    "* `self` 指向 `物件(Object)`\n",
    "* `Method` 透過 `self` 存取 `物件(Object)`"
   ]
  },
  {
   "cell_type": "code",
   "execution_count": null,
   "metadata": {},
   "outputs": [],
   "source": [
    "# 汽車類別\n",
    "class Cars:\n",
    "    \n",
    "    # 建構式(Constructor)\n",
    "    def __init__(self):\n",
    "        self.color = \"blue\"\n",
    "    \n",
    "    # 實體方法(Instance Method)\n",
    "    def drive(self):\n",
    "        print(f\"{self} is {self.color}.\")\n",
    "        self.message()  # 呼叫其他方法\n",
    "   \n",
    "    # 實體方法(Instance Method)\n",
    "    def message(self):\n",
    "        print(\"Message method is called.\")\n",
    "mazda = Cars()\n",
    "mazda.drive()"
   ]
  },
  {
   "cell_type": "markdown",
   "metadata": {},
   "source": [
    "`執行結果`\n",
    "```\n",
    "<__main__.Cars object at 0x10a44c710> is blue.\n",
    "Message method is called.\n",
    "```\n",
    "從`執行結果`可以看到，我們印出self參數時，結果顯示為Cars類別的物件(Object)\n",
    "也就是說呼叫實體方法(Instance Method)時，Python編譯器會傳入物件(Object)，使得self參數指向該物件(Object)。\n",
    "```python\n",
    "[1]: Cars\n",
    "out: __main__.Cars  # 輸出類別(class)，但沒有建立物件(object)\n",
    "\n",
    "[2]: Cars.drive()  # 無法透過(class)呼叫物件(object)\n",
    "out: TypeError: drive() missing 1 required positional argument: 'self'\n",
    "\n",
    "[3]: Cars()\n",
    "out: <__main__.Cars object at 0x10a44c710>  # 建立物件(object)\n",
    "```"
   ]
  },
  {
   "cell_type": "code",
   "execution_count": 54,
   "metadata": {},
   "outputs": [
    {
     "name": "stdout",
     "output_type": "stream",
     "text": [
      "Cars original door:  4\n",
      "\n",
      "<__main__.Cars2 object at 0x10a6705c0> init\n",
      "Cars original wings:  2\n",
      "\n",
      "<__main__.Cars2 object at 0x10a670588> init\n",
      "\n",
      "<__main__.Cars2 object at 0x10a670588> drive\n",
      "\n",
      "Cars new door:  5\n",
      "\n",
      "Cars new wings:  4\n",
      "\n",
      "<__main__.Cars2 object at 0x10a670630> init\n",
      "Cars new wings:  2\n"
     ]
    }
   ],
   "source": [
    "# 汽車類別2\n",
    "class Cars2:\n",
    "    door = 4  #類別屬性\n",
    "    \n",
    "    # 建構式(Constructor)\n",
    "    def __init__(self):\n",
    "        print(self, 'init')\n",
    "        self.wings = 2\n",
    "        \n",
    "    \n",
    "    # 實體方法(Instance Method)\n",
    "    def drive(self):\n",
    "        print(self, 'drive')\n",
    "        self.__class__.door += 1\n",
    "        self.wings = 4\n",
    "        \n",
    "\n",
    "print(\"Cars original door: \", Cars2.door)  # 調出Cars2的屬性\n",
    "print()\n",
    "print(\"Cars original wings: \", Cars2().wings)  # 創建Cars2物件: 1\n",
    "print()\n",
    "toyota = Cars2()  # 創建Cars2物件: 2\n",
    "print()\n",
    "toyota.drive()  # Cars2物件: 2 (此步驟讓物件2 的 wings=4, 變更class設計 door+1)\n",
    "print()\n",
    "print(\"Cars new door: \", Cars2.door)  # 調出Cars2的屬性\n",
    "print()\n",
    "print(\"Cars new wings: \", toyota.wings)  # Cars2物件: 2\n",
    "print()\n",
    "print(\"Cars new wings: \", Cars2().wings)  # 創建Cars2物件: 3"
   ]
  },
  {
   "cell_type": "code",
   "execution_count": 43,
   "metadata": {},
   "outputs": [
    {
     "name": "stdout",
     "output_type": "stream",
     "text": [
      "<__main__.Cars2 object at 0x10a677b70> drive\n",
      "Cars new door:  6\n"
     ]
    }
   ],
   "source": [
    "toyota.drive()  # Cars2物件: 2 (此步驟讓物件2 的 wings=4, 變更class設計 door+1)\n",
    "print(\"Cars new door: \", Cars2.door)"
   ]
  },
  {
   "cell_type": "code",
   "execution_count": 44,
   "metadata": {},
   "outputs": [],
   "source": [
    "del Cars2  # 刪除class (Cars2)，但由建立的物件還存在ex. toyota"
   ]
  },
  {
   "cell_type": "code",
   "execution_count": 47,
   "metadata": {},
   "outputs": [
    {
     "ename": "NameError",
     "evalue": "name 'Cars2' is not defined",
     "output_type": "error",
     "traceback": [
      "\u001b[0;31m---------------------------------------------------------------------------\u001b[0m",
      "\u001b[0;31mNameError\u001b[0m                                 Traceback (most recent call last)",
      "\u001b[0;32m<ipython-input-47-973113e59448>\u001b[0m in \u001b[0;36m<module>\u001b[0;34m\u001b[0m\n\u001b[0;32m----> 1\u001b[0;31m \u001b[0mprint\u001b[0m\u001b[0;34m(\u001b[0m\u001b[0mCars2\u001b[0m\u001b[0;34m.\u001b[0m\u001b[0mdoor\u001b[0m\u001b[0;34m)\u001b[0m\u001b[0;34m\u001b[0m\u001b[0m\n\u001b[0m",
      "\u001b[0;31mNameError\u001b[0m: name 'Cars2' is not defined"
     ]
    }
   ],
   "source": [
    "print(Cars2.door)"
   ]
  },
  {
   "cell_type": "markdown",
   "metadata": {},
   "source": [
    "刪除了class (Cars2)，但由建立的物件還存在ex. toyota"
   ]
  },
  {
   "cell_type": "code",
   "execution_count": 58,
   "metadata": {},
   "outputs": [
    {
     "name": "stdout",
     "output_type": "stream",
     "text": [
      "<__main__.Cars2 object at 0x10a670588> drive\n",
      "4\n",
      "7\n"
     ]
    }
   ],
   "source": [
    "toyota.drive()\n",
    "print(toyota.wings)\n",
    "print(toyota.door)"
   ]
  },
  {
   "cell_type": "markdown",
   "metadata": {},
   "source": [
    "## 類別方法(Class Method)\n",
    "**類別方法(Class Method)也被稱為工廠方法(Factory Method)，讓程式碼簡潔且易於維護。**\n",
    "* Python類別(Class)中有`@classmethod`裝飾詞(Decorator)的方法(Method)\n",
    "* 被呼叫時，相較於實體方法(Instance Method)的self參數指向物件(Object)\n",
    "* 類別方法(Class Method)為`cls`參數，指向`類別(Class)`"
   ]
  },
  {
   "cell_type": "code",
   "execution_count": 69,
   "metadata": {},
   "outputs": [
    {
     "name": "stdout",
     "output_type": "stream",
     "text": [
      "<class '__main__.Cars3'> has 4 doors.\n",
      "<class '__main__.Cars3'> has 4 doors.\n"
     ]
    }
   ],
   "source": [
    "# 汽車類別\n",
    "class Cars3:\n",
    "    door = 4  # 類別屬性\n",
    "    \n",
    "    # 類別方法(Class Method)\n",
    "    @classmethod\n",
    "    def open_door(cls):\n",
    "        print(f\"{cls} has {cls.door} doors.\")\n",
    "\n",
    "\n",
    "mazda2 = Cars3()  # 建立物件\n",
    "mazda2.open_door()  # 透過物件呼叫\n",
    "Cars3.open_door()  # 透過類別呼叫"
   ]
  },
  {
   "cell_type": "markdown",
   "metadata": {},
   "source": [
    "Python的`類別方法(Class Method)`常應用於產生`物件(Object)`"
   ]
  },
  {
   "cell_type": "code",
   "execution_count": 71,
   "metadata": {},
   "outputs": [],
   "source": [
    "# 汽車類別\n",
    "class Cars4:\n",
    "    \n",
    "    # 建構式(Constructor)\n",
    "    def __init__(self, seat, color):\n",
    "        self.seat = seat\n",
    "        self.color = color\n",
    "    # 廂型車\n",
    "    @classmethod\n",
    "    def van(cls):\n",
    "        return cls(6, \"black\")\n",
    "    # 跑車\n",
    "    @classmethod\n",
    "    def sports_car(cls):\n",
    "        return cls(4, \"yellow\")\n",
    "van = Cars4.van()\n",
    "sports_car = Cars4.sports_car()\n",
    "\n",
    "# van及sports_car類別方法(Class Method)利用cls參數初始化物件，並且回傳。"
   ]
  },
  {
   "cell_type": "code",
   "execution_count": 75,
   "metadata": {},
   "outputs": [
    {
     "data": {
      "text/plain": [
       "<__main__.Cars4 at 0x10a670978>"
      ]
     },
     "execution_count": 75,
     "metadata": {},
     "output_type": "execute_result"
    }
   ],
   "source": [
    "van"
   ]
  },
  {
   "cell_type": "code",
   "execution_count": 74,
   "metadata": {},
   "outputs": [
    {
     "data": {
      "text/plain": [
       "(6, 'black')"
      ]
     },
     "execution_count": 74,
     "metadata": {},
     "output_type": "execute_result"
    }
   ],
   "source": [
    "van.seat, van.color"
   ]
  },
  {
   "cell_type": "code",
   "execution_count": 76,
   "metadata": {},
   "outputs": [
    {
     "data": {
      "text/plain": [
       "<__main__.Cars4 at 0x10a670a90>"
      ]
     },
     "execution_count": 76,
     "metadata": {},
     "output_type": "execute_result"
    }
   ],
   "source": [
    "sports_car"
   ]
  },
  {
   "cell_type": "code",
   "execution_count": 77,
   "metadata": {},
   "outputs": [
    {
     "data": {
      "text/plain": [
       "(4, 'yellow')"
      ]
     },
     "execution_count": 77,
     "metadata": {},
     "output_type": "execute_result"
    }
   ],
   "source": [
    "sports_car.seat, sports_car.color"
   ]
  },
  {
   "cell_type": "markdown",
   "metadata": {},
   "source": [
    "## 靜態方法(Static Method)\n",
    "* Python類別中有`@staticmethod`裝飾詞(Decorator)的方法(Method)\n",
    "* 可以接受任意的參數，也因為它沒有self及cls參數\n",
    "* 所以靜態方法(Static Method)無法改變類別(Class)及物件(Object)的狀態\n",
    "* 靜態方法(Static Method)在類別(Class)中是一個`獨立的方法(Method)`，通常應用於方法(Method)中無需存取物件(Object)的屬性(Attribute)或方法(Method)，單純執行傳入參數或功能上運算的情況\n",
    "* 優點：\n",
    "    * 在開發過程中可以避免新加入的開發人員意外改變類別(Class)或物件(Object)的狀態(因為方法中無self及cls參數)，而影響到類別(Class)原始的設計。\n",
    "    * 靜態方法(Static Method)在類別中是獨立的，所以有助於單元的測試。"
   ]
  },
  {
   "cell_type": "code",
   "execution_count": 78,
   "metadata": {},
   "outputs": [
    {
     "name": "stdout",
     "output_type": "stream",
     "text": [
      "van rate:  500.0\n",
      "sports car rate:  1000.0\n"
     ]
    }
   ],
   "source": [
    "# 汽車類別\n",
    "class Cars5:\n",
    "    \n",
    "    # 速率靜態方法\n",
    "    @staticmethod\n",
    "    def speed_rate(distance, minute):\n",
    "        return distance / minute\n",
    "\n",
    "    \n",
    "# 透過物件呼叫\n",
    "van = Cars5()\n",
    "van_rate = van.speed_rate(10000, 20)\n",
    "print(\"van rate: \", van_rate)\n",
    "\n",
    "# 透過類別呼叫\n",
    "sports_car_rate = Cars5.speed_rate(20000, 20)\n",
    "print(\"sports car rate: \", sports_car_rate)"
   ]
  },
  {
   "cell_type": "code",
   "execution_count": null,
   "metadata": {},
   "outputs": [],
   "source": []
  }
 ],
 "metadata": {
  "kernelspec": {
   "display_name": "Python 3",
   "language": "python",
   "name": "python3"
  },
  "language_info": {
   "codemirror_mode": {
    "name": "ipython",
    "version": 3
   },
   "file_extension": ".py",
   "mimetype": "text/x-python",
   "name": "python",
   "nbconvert_exporter": "python",
   "pygments_lexer": "ipython3",
   "version": "3.6.0"
  }
 },
 "nbformat": 4,
 "nbformat_minor": 2
}
