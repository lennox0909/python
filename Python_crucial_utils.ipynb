{
 "cells": [
  {
   "cell_type": "code",
   "execution_count": 46,
   "metadata": {},
   "outputs": [
    {
     "name": "stdout",
     "output_type": "stream",
     "text": [
      "<class 'os._Environ'>\n",
      "environ({'TERM': 'xterm-color', 'SHELL': '/bin/bash', 'TMPDIR': '/var/folders/vy/wp_6rsks08q6qlh936pbsh5c0000gn/T/', 'USER': 'lenotsai', 'SSH_AUTH_SOCK': '/private/tmp/com.apple.launchd.J6kVhHd7Cs/Listeners', '__CF_USER_TEXT_ENCODING': '0x1F5:0x2:0x35', 'VIRTUAL_ENV': '/Users/lenotsai/Desktop/0912_機器深度學習/venv', 'PATH': '/Users/lenotsai/Desktop/0912_機器深度學習/venv/bin:/usr/local/opt/libxml2/bin:/usr/local/opt/qt/bin:/usr/local/opt/qt/bin:/usr/local/opt/qt/bin:/Library/Frameworks/Python.framework/Versions/3.6/bin:/usr/local/mysql/bin:/Library/Frameworks/Python.framework/Versions/3.6/bin:/usr/local/bin:/usr/bin:/bin:/usr/sbin:/sbin:/usr/local/opt/libxml2/bin:/usr/local/opt/qt/bin:/Library/Frameworks/Python.framework/Versions/3.6/bin:/usr/local/mysql/bin', 'TERMINAL_EMULATOR': 'JetBrains-JediTerm', 'PWD': '/Users/lenotsai/Desktop/LeetCode', 'XPC_FLAGS': '0x0', 'PS1': '(venv) \\\\h:\\\\W \\\\u\\\\$ ', 'XPC_SERVICE_NAME': '0', 'SHLVL': '1', 'HOME': '/Users/lenotsai', 'LOGNAME': 'lenotsai', 'LC_CTYPE': 'zh_TW.UTF-8', '_': '/Users/lenotsai/Desktop/0912_機器深度學習/venv/bin/jupyter', '__PYVENV_LAUNCHER__': '/Users/lenotsai/Desktop/0912_機器深度學習/venv/bin/python', 'KERNEL_LAUNCH_TIMEOUT': '40', 'JPY_PARENT_PID': '35414', 'CLICOLOR': '1', 'PAGER': 'cat', 'GIT_PAGER': 'cat', 'MPLBACKEND': 'module://ipykernel.pylab.backend_inline'})\n"
     ]
    }
   ],
   "source": [
    "import os\n",
    "info = os.environ\n",
    "print(type(info))\n",
    "print(info)"
   ]
  },
  {
   "cell_type": "code",
   "execution_count": 47,
   "metadata": {},
   "outputs": [
    {
     "data": {
      "text/plain": [
       "'lenotsai'"
      ]
     },
     "execution_count": 47,
     "metadata": {},
     "output_type": "execute_result"
    }
   ],
   "source": [
    "os.environ['USER']"
   ]
  },
  {
   "cell_type": "code",
   "execution_count": null,
   "metadata": {},
   "outputs": [],
   "source": [
    "import struct"
   ]
  },
  {
   "cell_type": "markdown",
   "metadata": {},
   "source": [
    "# 內建函數 isinstance"
   ]
  },
  {
   "cell_type": "code",
   "execution_count": 48,
   "metadata": {},
   "outputs": [
    {
     "data": {
      "text/plain": [
       "True"
      ]
     },
     "execution_count": 48,
     "metadata": {},
     "output_type": "execute_result"
    }
   ],
   "source": [
    "isinstance(9, int)"
   ]
  },
  {
   "cell_type": "code",
   "execution_count": 49,
   "metadata": {},
   "outputs": [
    {
     "data": {
      "text/plain": [
       "False"
      ]
     },
     "execution_count": 49,
     "metadata": {},
     "output_type": "execute_result"
    }
   ],
   "source": [
    "isinstance(9, float)"
   ]
  },
  {
   "cell_type": "code",
   "execution_count": 52,
   "metadata": {},
   "outputs": [
    {
     "data": {
      "text/plain": [
       "True"
      ]
     },
     "execution_count": 52,
     "metadata": {},
     "output_type": "execute_result"
    }
   ],
   "source": [
    "isinstance(9, (float,int))"
   ]
  },
  {
   "cell_type": "markdown",
   "metadata": {},
   "source": [
    "# struct — Interpret bytes as packed binary data\n",
    "* https://docs.python.org/3/library/struct.html\n",
    "* https://kuanyuchen.gitbooks.io/python3-tutorial/er_jin_zhi_chu_li_fang_shi.html"
   ]
  },
  {
   "cell_type": "markdown",
   "metadata": {},
   "source": [
    "# NyumPy\n",
    "https://github.com/PoLun-Wang/Learn_NumPy"
   ]
  },
  {
   "cell_type": "code",
   "execution_count": 7,
   "metadata": {},
   "outputs": [
    {
     "data": {
      "text/plain": [
       "array([[[ 0,  1],\n",
       "        [ 2,  3],\n",
       "        [ 4,  5]],\n",
       "\n",
       "       [[ 6,  7],\n",
       "        [ 8,  9],\n",
       "        [10, 11]]])"
      ]
     },
     "execution_count": 7,
     "metadata": {},
     "output_type": "execute_result"
    }
   ],
   "source": [
    "import numpy as np\n",
    "np_a = np.array(range(12)).reshape(2,3,2)\n",
    "np_a"
   ]
  },
  {
   "cell_type": "code",
   "execution_count": null,
   "metadata": {},
   "outputs": [],
   "source": []
  },
  {
   "cell_type": "markdown",
   "metadata": {},
   "source": [
    "# 數學運算\n",
    "```\n",
    "pow(X,Y) = X的Y次方\n",
    "```"
   ]
  },
  {
   "cell_type": "code",
   "execution_count": 1,
   "metadata": {},
   "outputs": [
    {
     "data": {
      "text/plain": [
       "4"
      ]
     },
     "execution_count": 1,
     "metadata": {},
     "output_type": "execute_result"
    }
   ],
   "source": [
    "pow(2,2)"
   ]
  },
  {
   "cell_type": "code",
   "execution_count": 2,
   "metadata": {},
   "outputs": [
    {
     "name": "stdout",
     "output_type": "stream",
     "text": [
      "a = 10\n",
      "b = 72\n",
      "c = 73\n",
      "d = 78\n"
     ]
    },
    {
     "ename": "TypeError",
     "evalue": "sum expected at most 2 arguments, got 4",
     "output_type": "error",
     "traceback": [
      "\u001b[0;31m---------------------------------------------------------------------------\u001b[0m",
      "\u001b[0;31mTypeError\u001b[0m                                 Traceback (most recent call last)",
      "\u001b[0;32m<ipython-input-2-4103b2b5bc3f>\u001b[0m in \u001b[0;36m<module>\u001b[0;34m\u001b[0m\n\u001b[1;32m     13\u001b[0m \u001b[0;34m\u001b[0m\u001b[0m\n\u001b[1;32m     14\u001b[0m \u001b[0;34m\u001b[0m\u001b[0m\n\u001b[0;32m---> 15\u001b[0;31m \u001b[0maa\u001b[0m \u001b[0;34m=\u001b[0m \u001b[0msum\u001b[0m\u001b[0;34m(\u001b[0m\u001b[0;36m1\u001b[0m\u001b[0;34m,\u001b[0m\u001b[0;36m2\u001b[0m\u001b[0;34m,\u001b[0m\u001b[0;36m3\u001b[0m\u001b[0;34m,\u001b[0m\u001b[0;36m4\u001b[0m\u001b[0;34m)\u001b[0m \u001b[0;31m# TypeError: sum expected at most 2 arguments, got 4\u001b[0m\u001b[0;34m\u001b[0m\u001b[0m\n\u001b[0m\u001b[1;32m     16\u001b[0m \u001b[0mprint\u001b[0m\u001b[0;34m(\u001b[0m\u001b[0;34m'aa ='\u001b[0m\u001b[0;34m,\u001b[0m\u001b[0maa\u001b[0m\u001b[0;34m)\u001b[0m\u001b[0;34m\u001b[0m\u001b[0m\n",
      "\u001b[0;31mTypeError\u001b[0m: sum expected at most 2 arguments, got 4"
     ]
    }
   ],
   "source": [
    "a = sum([1,2,3,4])\n",
    "print('a =',a) # a = 10\n",
    "\n",
    "sumlist = [5,1,52,6,8]\n",
    "b = sum(sumlist)\n",
    "c = sum([5,1,52,6,8],1)\n",
    "print('b =',b) # b = 72\n",
    "print('c =',c) # c = 73\n",
    "\n",
    "d = sum(sumlist, 6)\n",
    "print('d =',d) # d = 78\n",
    "\n",
    "\n",
    "\n",
    "aa = sum(1,2,3,4) # TypeError: sum expected at most 2 arguments, got 4\n",
    "print('aa =',aa)"
   ]
  },
  {
   "cell_type": "code",
   "execution_count": 3,
   "metadata": {},
   "outputs": [
    {
     "name": "stdout",
     "output_type": "stream",
     "text": [
      "e = 72\n",
      "f = 72\n"
     ]
    }
   ],
   "source": [
    "sumlist = [5,1,52,6,8]\n",
    "ln = len(sumlist)\n",
    "e = sum([sumlist[i] for i in range(ln)])\n",
    "print('e =',e)\n",
    "f = sum(sumlist[:])\n",
    "print('f =',f)"
   ]
  },
  {
   "cell_type": "markdown",
   "metadata": {},
   "source": [
    "# 建立物件\n",
    "> id(物件)：指出物件的 **記憶體位置**"
   ]
  },
  {
   "cell_type": "code",
   "execution_count": 4,
   "metadata": {},
   "outputs": [
    {
     "name": "stdout",
     "output_type": "stream",
     "text": [
      "4305201568\n",
      "4305201568\n",
      "4305201568\n",
      "4305201504\n",
      "4305201504\n",
      "func:  4470407240\n"
     ]
    }
   ],
   "source": [
    "a = b = c = 2\n",
    "c = 1\n",
    "c = 2\n",
    "print(id(a))\n",
    "print(id(b))\n",
    "print(id(c))\n",
    "d = 0\n",
    "e = 0\n",
    "print(id(d))\n",
    "print(id(e))\n",
    "\n",
    "def func(a):\n",
    "    return a\n",
    "\n",
    "print('func: ',id(func))"
   ]
  },
  {
   "cell_type": "markdown",
   "metadata": {},
   "source": [
    "# Function(＊值 ,＊＊參數=值)\n",
    ">＊值 ,＊＊參數=值 同時出現時，**＊值** 要放前面"
   ]
  },
  {
   "cell_type": "code",
   "execution_count": 5,
   "metadata": {},
   "outputs": [
    {
     "name": "stdout",
     "output_type": "stream",
     "text": [
      "*args:  (1, 2, 3, 4, 5)\n",
      "<class 'tuple'>\n"
     ]
    },
    {
     "data": {
      "text/plain": [
       "10"
      ]
     },
     "execution_count": 5,
     "metadata": {},
     "output_type": "execute_result"
    }
   ],
   "source": [
    "def sum_(*a):\n",
    "    b = 0\n",
    "    print('*args: ',a)\n",
    "    print(type(a))\n",
    "    for i in range(len(a)):\n",
    "        b += i\n",
    "    return b\n",
    "\n",
    "sum_(1,2,3,4,5)"
   ]
  },
  {
   "cell_type": "code",
   "execution_count": 6,
   "metadata": {},
   "outputs": [
    {
     "name": "stdout",
     "output_type": "stream",
     "text": [
      "<class 'int'>\n",
      "{'Name': 'Leno', 'Nationality': 'Taiwan', 'Origin': 'Taipei', 'Gender': 'Male', 'Age': 36}\n"
     ]
    }
   ],
   "source": [
    "def dic(**kwargs):\n",
    "    print(type(a))\n",
    "    print(kwargs)\n",
    "\n",
    "# a = {'Name':'Leno','Nationality':'Taiwan','Origin':'Taipei','Gender':'Male','Age':36}\n",
    "\n",
    "secret = 36\n",
    "dic(Name='Leno',Nationality='Taiwan',Origin='Taipei',Gender='Male',Age = secret)"
   ]
  },
  {
   "cell_type": "markdown",
   "metadata": {},
   "source": [
    "# Dictionary操作"
   ]
  },
  {
   "cell_type": "markdown",
   "metadata": {},
   "source": [
    "建立 Dictionary"
   ]
  },
  {
   "cell_type": "code",
   "execution_count": 7,
   "metadata": {},
   "outputs": [
    {
     "name": "stdout",
     "output_type": "stream",
     "text": [
      "{0: 'A', 1: 'B', 2: 'C', 3: 'D', 4: 'E', 5: 'F', 6: 'G'}\n"
     ]
    }
   ],
   "source": [
    "dict = {}\n",
    "s = \"ABCDEFG\"\n",
    "for i, e in enumerate(s):\n",
    "    dict[i] = e\n",
    "print(dict)"
   ]
  },
  {
   "cell_type": "markdown",
   "metadata": {},
   "source": [
    "由兩個 List 建立 Dict"
   ]
  },
  {
   "cell_type": "code",
   "execution_count": 8,
   "metadata": {},
   "outputs": [
    {
     "name": "stdout",
     "output_type": "stream",
     "text": [
      "dict_new:  {'a': 0, 'b': 1, 'c': 2, 'd': 3, 'e': 4, 'f': 5}\n",
      "b 的 value:  1\n",
      "b 的 value:  1\n"
     ]
    }
   ],
   "source": [
    "list_a = [0,1,2,3,4,5]\n",
    "list_b = ['a','b','c','d','e','f']\n",
    "\n",
    "dict_new = {}\n",
    "for i in range(len(list_b)):\n",
    "    dict_new[list_b[i]] = list_a[i]\n",
    "\n",
    "print('dict_new: ',dict_new)\n",
    "print('b 的 value: ',dict_new.get('b'))\n",
    "print('b 的 value: ',dict_new['b'])"
   ]
  },
  {
   "cell_type": "markdown",
   "metadata": {},
   "source": [
    "* popL = list.pop(default = -1)\n",
    "* popL = list[-1]\n",
    "* Removes and returns last object or obj from list"
   ]
  },
  {
   "cell_type": "code",
   "execution_count": 9,
   "metadata": {},
   "outputs": [
    {
     "name": "stdout",
     "output_type": "stream",
     "text": [
      "[0, 1, 2, 3, 4]\n",
      "5\n"
     ]
    }
   ],
   "source": [
    "apop = list_a.pop()\n",
    "print(list_a)\n",
    "print(apop)\n",
    "# Removes and returns last object or obj from list"
   ]
  },
  {
   "cell_type": "markdown",
   "metadata": {},
   "source": [
    "dict.get(key) = value"
   ]
  },
  {
   "cell_type": "markdown",
   "metadata": {},
   "source": [
    "預設只能在dict中找key是否存在"
   ]
  },
  {
   "cell_type": "code",
   "execution_count": 10,
   "metadata": {},
   "outputs": [
    {
     "name": "stdout",
     "output_type": "stream",
     "text": [
      "Y\n"
     ]
    }
   ],
   "source": [
    "if 1 in dict:\n",
    "    print('Y')\n",
    "else:\n",
    "    print('N')"
   ]
  },
  {
   "cell_type": "code",
   "execution_count": 11,
   "metadata": {},
   "outputs": [
    {
     "name": "stdout",
     "output_type": "stream",
     "text": [
      "dict_keys([0, 1, 2, 3, 4, 5, 6])\n",
      "dict_values(['A', 'B', 'C', 'D', 'E', 'F', 'G'])\n"
     ]
    }
   ],
   "source": [
    "print(dict.keys())\n",
    "print(dict.values())"
   ]
  },
  {
   "cell_type": "markdown",
   "metadata": {},
   "source": [
    "在values中尋找值是否存在"
   ]
  },
  {
   "cell_type": "code",
   "execution_count": 12,
   "metadata": {},
   "outputs": [
    {
     "name": "stdout",
     "output_type": "stream",
     "text": [
      "Y\n",
      "N\n"
     ]
    }
   ],
   "source": [
    "if 'A' in dict.values():\n",
    "    print('Y')\n",
    "else:\n",
    "    print('N')\n",
    "\n",
    "# if else可改寫如下\n",
    "print('Y') if 'H' in dict.values() else print('N')"
   ]
  },
  {
   "cell_type": "markdown",
   "metadata": {},
   "source": [
    "### 反轉 dictionary 的 key: value\n",
    "> 注意：key是唯一值不重複，反轉前value有重複的話，反轉後會被砍掉"
   ]
  },
  {
   "cell_type": "code",
   "execution_count": 13,
   "metadata": {},
   "outputs": [
    {
     "name": "stdout",
     "output_type": "stream",
     "text": [
      "dict:  {0: 'A', 1: 'B', 2: 'C', 3: 'D', 4: 'E', 5: 'F', 6: 'G'}\n",
      "dict2:  {'A': 0, 'B': 1, 'C': 2, 'D': 3, 'E': 4, 'F': 5, 'G': 6}\n"
     ]
    }
   ],
   "source": [
    "dict2 = {}\n",
    "for k,v in dict.items():\n",
    "    dict2[v]=k\n",
    "print('dict: ',dict)\n",
    "print('dict2: ',dict2)"
   ]
  },
  {
   "cell_type": "code",
   "execution_count": 14,
   "metadata": {},
   "outputs": [
    {
     "name": "stdout",
     "output_type": "stream",
     "text": [
      "dict3:  {0: 'A', 1: 'B', 2: 'C', 3: 'B'}\n",
      "dict4:  {'A': 0, 'B': 3, 'C': 2}\n"
     ]
    }
   ],
   "source": [
    "dict3 = {0: 'A', 1: 'B', 2: 'C', 3: 'B'}\n",
    "dict4 = {}\n",
    "for k,v in dict3.items():\n",
    "    dict4[v]=k\n",
    "print('dict3: ',dict3)\n",
    "print('dict4: ',dict4)"
   ]
  },
  {
   "cell_type": "markdown",
   "metadata": {},
   "source": [
    "# List操作"
   ]
  },
  {
   "cell_type": "markdown",
   "metadata": {},
   "source": [
    "```python\n",
    "list1.sort()\n",
    "list2 = sorted(list1)\n",
    "```"
   ]
  },
  {
   "cell_type": "code",
   "execution_count": 15,
   "metadata": {},
   "outputs": [
    {
     "name": "stdout",
     "output_type": "stream",
     "text": [
      "nums3:  [1, 3, 2]\n",
      "nums3:  [1, 3, 2]\n",
      "sorted(nums3):  [1, 2, 3]\n",
      "nums3.sort():  [1, 2, 3]\n"
     ]
    }
   ],
   "source": [
    "nums1 = [1, 3]\n",
    "nums2 = [2]\n",
    "nums3 = nums1 + nums2\n",
    "print('nums3: ', nums3)\n",
    "\n",
    "nums4 = sorted(nums3)\n",
    "print('nums3: ',nums3)\n",
    "print('sorted(nums3): ',nums4)\n",
    "\n",
    "nums3.sort()\n",
    "print('nums3.sort(): ',nums3)"
   ]
  },
  {
   "cell_type": "code",
   "execution_count": 16,
   "metadata": {},
   "outputs": [
    {
     "name": "stdout",
     "output_type": "stream",
     "text": [
      "['flight', 'flow', 'flower']\n"
     ]
    }
   ],
   "source": [
    "strs = [\"flower\",\"flow\",\"flight\"]\n",
    "strs.sort()\n",
    "print(strs)"
   ]
  },
  {
   "cell_type": "code",
   "execution_count": 17,
   "metadata": {},
   "outputs": [
    {
     "name": "stdout",
     "output_type": "stream",
     "text": [
      "aaabbb\n"
     ]
    }
   ],
   "source": [
    "sss='aaa'\n",
    "sss2 = sss + 'bbb'\n",
    "print(sss2)"
   ]
  },
  {
   "cell_type": "markdown",
   "metadata": {},
   "source": [
    "```\n",
    "反續操作 List = List[: : -1]\n",
    "```"
   ]
  },
  {
   "cell_type": "code",
   "execution_count": 18,
   "metadata": {},
   "outputs": [
    {
     "name": "stdout",
     "output_type": "stream",
     "text": [
      "<class 'dict_keys'>\n",
      "<class 'dict_values'>\n",
      "k reverse:  ['M', 'D', 'C', 'L', 'X', 'V', 'I']\n",
      "v reverse:  [1000, 500, 100, 50, 10, 5, 1]\n",
      "rom_dict:  {'I': 1, 'V': 5, 'X': 10, 'L': 50, 'C': 100, 'D': 500, 'M': 1000}\n",
      "rom_dict_reverse:  {'M': 1000, 'D': 500, 'C': 100, 'L': 50, 'X': 10, 'V': 5, 'I': 1}\n"
     ]
    }
   ],
   "source": [
    "rom_dict = {'I': 1, 'V': 5, 'X': 10, 'L': 50, 'C': 100, 'D': 500, 'M': 1000}\n",
    "k = rom_dict.keys()\n",
    "v = rom_dict.values()\n",
    "print(type(k))\n",
    "print(type(v))\n",
    "\n",
    "k = list(k) # 轉成list\n",
    "v = list(v)\n",
    "k = k[::-1]\n",
    "v = v[::-1]\n",
    "print('k reverse: ',k)\n",
    "print('v reverse: ',v)\n",
    "\n",
    "rom_dict_reverse = {}\n",
    "for i in range(len(k)):\n",
    "    rom_dict_reverse[k[i]] = v[i]\n",
    "print('rom_dict: ',rom_dict)\n",
    "print('rom_dict_reverse: ',rom_dict_reverse)"
   ]
  },
  {
   "cell_type": "markdown",
   "metadata": {},
   "source": [
    "```\n",
    "建立序列List\n",
    "```"
   ]
  },
  {
   "cell_type": "code",
   "execution_count": 19,
   "metadata": {},
   "outputs": [
    {
     "name": "stdout",
     "output_type": "stream",
     "text": [
      "[0, 1, 2, 3, 4, 5, 6, 7, 8, 9]\n",
      "[0, 1, 2, 3, 4, 5, 6, 7, 8, 9]\n"
     ]
    }
   ],
   "source": [
    "label = list(i for i in range(0,10))\n",
    "# 也可以這樣簡化\n",
    "label_2 = list(range(0,10))\n",
    "print(label)\n",
    "print(label_2)"
   ]
  },
  {
   "cell_type": "markdown",
   "metadata": {},
   "source": [
    "* List remove 第一個 obj\n",
    "```python\n",
    "list.remove(obj)\n",
    "```"
   ]
  },
  {
   "cell_type": "code",
   "execution_count": 20,
   "metadata": {},
   "outputs": [
    {
     "name": "stdout",
     "output_type": "stream",
     "text": [
      "['a', 'b', 'c', 'd', 'e', 'f', 'g', 'h', 'i', 'j', 'k', 'h']\n",
      "['a', 'b', 'c', 'd', 'e', 'f', 'g', 'i', 'j', 'k', 'h']\n"
     ]
    }
   ],
   "source": [
    "a2h = 'abcdefghijkh'\n",
    "a2h_list = list(a2h)\n",
    "print(a2h_list)\n",
    "\n",
    "a2h_list.remove('h')\n",
    "print(a2h_list)"
   ]
  },
  {
   "cell_type": "markdown",
   "metadata": {},
   "source": [
    "# String操作"
   ]
  },
  {
   "cell_type": "markdown",
   "metadata": {},
   "source": [
    "### zip 操作\n",
    "```python\n",
    "list_2 = list(zip(string1,string2...))\n",
    "```\n",
    "取最短的string列舉"
   ]
  },
  {
   "cell_type": "code",
   "execution_count": 21,
   "metadata": {},
   "outputs": [
    {
     "name": "stdout",
     "output_type": "stream",
     "text": [
      "<zip object at 0x10a76a908>\n",
      "[('f', 'f', 'f'), ('l', 'l', 'l'), ('i', 'o', 'o'), ('g', 'w', 'w')]\n",
      "<zip object at 0x10a76aac8>\n",
      "[('flight',), ('flow',), ('flower',)]\n"
     ]
    }
   ],
   "source": [
    "zzip2 = zip('flight', 'flow', 'flower')\n",
    "print(zzip2)\n",
    "print(list(zzip2))\n",
    "\n",
    "f_list = ['flight', 'flow', 'flower']\n",
    "zzip = zip(f_list) # 如果放入一個list\n",
    "print(zzip)\n",
    "print(list(zzip))"
   ]
  },
  {
   "cell_type": "code",
   "execution_count": 22,
   "metadata": {},
   "outputs": [
    {
     "name": "stdout",
     "output_type": "stream",
     "text": [
      "7\n",
      "ABC\n",
      "GFEDCBA\n",
      "ACEG\n",
      "=====\n",
      "True\n",
      "False\n",
      "=====\n",
      "不是空字串\n"
     ]
    }
   ],
   "source": [
    "s = 'ABCDEFG'\n",
    "print(len(s))\n",
    "print(s[0:3])  # s[頭:尾] 頭印尾不印\n",
    "print(s[::-1]) # 反序\n",
    "print(s[::2])  # stride = 2\n",
    "print('=====')\n",
    "\n",
    "e = ''\n",
    "print(bool(s))\n",
    "print(bool(e))\n",
    "print('=====')\n",
    "\n",
    "if s: print('不是空字串')\n",
    "if e: print('是空字串')"
   ]
  }
 ],
 "metadata": {
  "kernelspec": {
   "display_name": "Python 3",
   "language": "python",
   "name": "python3"
  },
  "language_info": {
   "codemirror_mode": {
    "name": "ipython",
    "version": 3
   },
   "file_extension": ".py",
   "mimetype": "text/x-python",
   "name": "python",
   "nbconvert_exporter": "python",
   "pygments_lexer": "ipython3",
   "version": "3.6.0"
  }
 },
 "nbformat": 4,
 "nbformat_minor": 2
}
